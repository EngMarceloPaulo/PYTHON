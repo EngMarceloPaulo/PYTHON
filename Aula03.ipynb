{
  "nbformat": 4,
  "nbformat_minor": 0,
  "metadata": {
    "colab": {
      "name": "Aula03.ipynb",
      "provenance": [],
      "authorship_tag": "ABX9TyNYIhd501PQAlAIPBdaSO5L",
      "include_colab_link": true
    },
    "kernelspec": {
      "name": "python3",
      "display_name": "Python 3"
    }
  },
  "cells": [
    {
      "cell_type": "markdown",
      "metadata": {
        "id": "view-in-github",
        "colab_type": "text"
      },
      "source": [
        "<a href=\"https://colab.research.google.com/github/EngMarceloPaulo/PYTHONAzevedo/blob/master/Aula03.ipynb\" target=\"_parent\"><img src=\"https://colab.research.google.com/assets/colab-badge.svg\" alt=\"Open In Colab\"/></a>"
      ]
    },
    {
      "cell_type": "code",
      "metadata": {
        "colab": {
          "base_uri": "https://localhost:8080/"
        },
        "id": "e8nHNYvMQseh",
        "outputId": "a658b07f-e51b-4926-dc8d-fbda06c36101"
      },
      "source": [
        "x = 2\r\n",
        "y = 3.0\r\n",
        "z = x/y     # Conversão implícita de tipo\r\n",
        "w = int(z)  # Conversão explícita de tipo\r\n",
        "print(z)\r\n",
        "print(type(x))\r\n",
        "print(type(y))\r\n",
        "print(type(z)) # trunca a variável\r\n",
        "print(z)\r\n",
        "print(w)\r\n",
        "t = (x + y - z * w ** 2)/3 # a variável t recebe o valor das outras\r\n",
        "print(t)\r\n",
        "print('Resultado apresentado com str: ' + str(t))\r\n",
        "print(\"Resultado apresentado com vírgulas: \", t)"
      ],
      "execution_count": 12,
      "outputs": [
        {
          "output_type": "stream",
          "text": [
            "0.6666666666666666\n",
            "<class 'int'>\n",
            "<class 'float'>\n",
            "<class 'float'>\n",
            "0.6666666666666666\n",
            "0\n",
            "1.6666666666666667\n",
            "Resultado apresentado com str: 1.6666666666666667\n",
            "Resultado apresentado com vírgulas:  1.6666666666666667\n"
          ],
          "name": "stdout"
        }
      ]
    }
  ]
}