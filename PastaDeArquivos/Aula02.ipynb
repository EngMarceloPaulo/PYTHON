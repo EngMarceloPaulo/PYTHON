{
  "nbformat": 4,
  "nbformat_minor": 0,
  "metadata": {
    "colab": {
      "name": "Aula02.ipynb",
      "provenance": [],
      "authorship_tag": "ABX9TyOXhK/5q6JVyDrM1Tkz1wtT",
      "include_colab_link": true
    },
    "kernelspec": {
      "name": "python3",
      "display_name": "Python 3"
    }
  },
  "cells": [
    {
      "cell_type": "markdown",
      "metadata": {
        "id": "view-in-github",
        "colab_type": "text"
      },
      "source": [
        "<a href=\"https://colab.research.google.com/github/EngMarceloPaulo/PYTHONAzevedo/blob/master/PastaDeArquivos/Aula02.ipynb\" target=\"_parent\"><img src=\"https://colab.research.google.com/assets/colab-badge.svg\" alt=\"Open In Colab\"/></a>"
      ]
    },
    {
      "cell_type": "code",
      "metadata": {
        "colab": {
          "base_uri": "https://localhost:8080/"
        },
        "id": "Dv0iKjCONOkK",
        "outputId": "799ca6ea-c2fc-4a85-a770-f73556d7cb12"
      },
      "source": [
        "# Comentário - documentação do seu programa.\r\n",
        "#Aprendendo sobre tipos de variáveis.\r\n",
        "var = 34 # O Python é fracamente tipado.\r\n",
        "x = 23.0\r\n",
        "y = 'nada'\r\n",
        "print(type(var))\r\n",
        "print(type(x))\r\n",
        "print(type(y))"
      ],
      "execution_count": 5,
      "outputs": [
        {
          "output_type": "stream",
          "text": [
            "<class 'int'>\n",
            "<class 'float'>\n",
            "<class 'str'>\n"
          ],
          "name": "stdout"
        }
      ]
    }
  ]
}