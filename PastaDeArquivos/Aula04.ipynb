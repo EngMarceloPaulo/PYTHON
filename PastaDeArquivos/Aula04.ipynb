{
  "nbformat": 4,
  "nbformat_minor": 0,
  "metadata": {
    "colab": {
      "name": "Aula04.ipynb",
      "provenance": [],
      "authorship_tag": "ABX9TyN7rDmEDHAJx4MoL1SNGpGE",
      "include_colab_link": true
    },
    "kernelspec": {
      "name": "python3",
      "display_name": "Python 3"
    }
  },
  "cells": [
    {
      "cell_type": "markdown",
      "metadata": {
        "id": "view-in-github",
        "colab_type": "text"
      },
      "source": [
        "<a href=\"https://colab.research.google.com/github/EngMarceloPaulo/PYTHONAzevedo/blob/master/PastaDeArquivos/Aula04.ipynb\" target=\"_parent\"><img src=\"https://colab.research.google.com/assets/colab-badge.svg\" alt=\"Open In Colab\"/></a>"
      ]
    },
    {
      "cell_type": "code",
      "metadata": {
        "id": "BwMJaD_jXGRt"
      },
      "source": [
        "nome = input(\"Entre com uma palavra: \")\r\n",
        "print(nome)\r\n",
        "print(type(nome))\r\n",
        "x = input('Entre com um número: ')\r\n",
        "print(x)\r\n",
        "print(type(x))\r\n"
      ],
      "execution_count": null,
      "outputs": []
    },
    {
      "cell_type": "markdown",
      "metadata": {
        "id": "W8M9dWNlYUSi"
      },
      "source": [
        "Este programa irá calcular o ganho líquido."
      ]
    },
    {
      "cell_type": "code",
      "metadata": {
        "colab": {
          "base_uri": "https://localhost:8080/"
        },
        "id": "i9k4q7LhYlrB",
        "outputId": "9949b303-e9a5-413c-9311-f6e3d241b0cd"
      },
      "source": [
        "nome = input(\"Entre com um nome: \")\r\n",
        "x = input('Entre com o ganho bruto: ')\r\n",
        "y = int(x) - 200\r\n",
        "print(nome + ', seu ganho líquido foi de R$ ' + str(y) + ',00')"
      ],
      "execution_count": 5,
      "outputs": [
        {
          "output_type": "stream",
          "text": [
            "Entre com um nome: Marcelo Paulo\n",
            "Entre com o ganho bruto: 20000\n",
            "Marcelo Paulo, seu ganho líquido foi de R$ 19800,00\n"
          ],
          "name": "stdout"
        }
      ]
    }
  ]
}