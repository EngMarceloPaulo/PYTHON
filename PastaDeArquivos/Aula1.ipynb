{
  "nbformat": 4,
  "nbformat_minor": 0,
  "metadata": {
    "colab": {
      "name": "Aula01.ipynb",
      "provenance": [],
      "collapsed_sections": [],
      "authorship_tag": "ABX9TyMjXqYg3t9ef2YgQ1RFL8gF",
      "include_colab_link": true
    },
    "kernelspec": {
      "name": "python3",
      "display_name": "Python 3"
    }
  },
  "cells": [
    {
      "cell_type": "markdown",
      "metadata": {
        "id": "view-in-github",
        "colab_type": "text"
      },
      "source": [
        "<a href=\"https://colab.research.google.com/github/EngMarceloPaulo/PYTHONAzevedo/blob/master/PastaDeArquivos/Aula1.ipynb\" target=\"_parent\"><img src=\"https://colab.research.google.com/assets/colab-badge.svg\" alt=\"Open In Colab\"/></a>"
      ]
    },
    {
      "cell_type": "code",
      "metadata": {
        "colab": {
          "base_uri": "https://localhost:8080/"
        },
        "id": "2nSj2W792MNu",
        "outputId": "78181ef4-b874-4a64-c87a-51f2ade4edf2"
      },
      "source": [
        "NomeDaVariavel = 'Marcelo'\r\n",
        "nomedavariavel = 'Paulo'\r\n",
        "nome = NomeDaVariavel + ' ' + nomedavariavel\r\n",
        "var = 45\r\n",
        "var2 = 2\r\n",
        "var3 = var + var2\r\n",
        "str4 = nome\r\n",
        "var4 = nome + ' ' + str(var3)\r\n",
        "print(nome)\r\n",
        "print(var3)\r\n",
        "print(NomeDaVariavel)\r\n",
        "print(nomedavariavel)\r\n",
        "print(str4 + ' ' + str(var + var3 - var2))\r\n",
        "print(var4)"
      ],
      "execution_count": 22,
      "outputs": [
        {
          "output_type": "stream",
          "text": [
            "Marcelo Paulo\n",
            "47\n",
            "Marcelo\n",
            "Paulo\n",
            "Marcelo Paulo 90\n",
            "Marcelo Paulo 47\n"
          ],
          "name": "stdout"
        }
      ]
    }
  ]
}
