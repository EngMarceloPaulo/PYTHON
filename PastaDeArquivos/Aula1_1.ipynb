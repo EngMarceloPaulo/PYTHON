{
  "nbformat": 4,
  "nbformat_minor": 0,
  "metadata": {
    "colab": {
      "name": "Aula1.ipynb",
      "provenance": [],
      "collapsed_sections": [],
      "authorship_tag": "ABX9TyNCgRk4+nkKxl6w/dxbUdHh",
      "include_colab_link": true
    },
    "kernelspec": {
      "name": "python3",
      "display_name": "Python 3"
    }
  },
  "cells": [
    {
      "cell_type": "markdown",
      "metadata": {
        "id": "view-in-github",
        "colab_type": "text"
      },
      "source": [
        "<a href=\"https://colab.research.google.com/github/EngMarceloPaulo/PYTHONAzevedo/blob/master/PastaDeArquivos/Aula1_1.ipynb\" target=\"_parent\"><img src=\"https://colab.research.google.com/assets/colab-badge.svg\" alt=\"Open In Colab\"/></a>"
      ]
    },
    {
      "cell_type": "code",
      "metadata": {
        "colab": {
          "base_uri": "https://localhost:8080/"
        },
        "id": "2nSj2W792MNu",
        "outputId": "3a79afb7-0f5d-4b6a-e561-f03418674164"
      },
      "source": [
        "var1 = input('Digite uma palavra: ')\r\n",
        "var2 = input('Digite um número: ')\r\n",
        "print(\"Conteúdo de var1 é: \" + var1)\r\n",
        "print(\"Conteúdo de var2 é: \" + var2)\r\n",
        "print(\"Obtendo os tipos de var1 e var2\")\r\n",
        "print(type(var1))\r\n",
        "print(type(var2))"
      ],
      "execution_count": 23,
      "outputs": [
        {
          "output_type": "stream",
          "text": [
            "Digite uma palavra: Marcelo\n",
            "Digite um número: 26\n",
            "Conteúdo de var1 é: Marcelo\n",
            "Conteúdo de var2 é: 26\n",
            "Obtendo os tipos de var1 e var2\n",
            "<class 'str'>\n",
            "<class 'str'>\n"
          ],
          "name": "stdout"
        }
      ]
    }
  ]
}