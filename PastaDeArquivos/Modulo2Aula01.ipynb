{
  "nbformat": 4,
  "nbformat_minor": 0,
  "metadata": {
    "colab": {
      "name": "Modulo2Aula01.ipynb",
      "provenance": [],
      "authorship_tag": "ABX9TyOhZVbo7BKwoBXt48icsfCm",
      "include_colab_link": true
    },
    "kernelspec": {
      "name": "python3",
      "display_name": "Python 3"
    }
  },
  "cells": [
    {
      "cell_type": "markdown",
      "metadata": {
        "id": "view-in-github",
        "colab_type": "text"
      },
      "source": [
        "<a href=\"https://colab.research.google.com/github/EngMarceloPaulo/PYTHONAzevedo/blob/master/PastaDeArquivos/Modulo2Aula01.ipynb\" target=\"_parent\"><img src=\"https://colab.research.google.com/assets/colab-badge.svg\" alt=\"Open In Colab\"/></a>"
      ]
    },
    {
      "cell_type": "code",
      "metadata": {
        "colab": {
          "base_uri": "https://localhost:8080/"
        },
        "id": "fjwiIH0fBY8X",
        "outputId": "b679ee64-edde-4c05-f5ab-134c7f5fdfda"
      },
      "source": [
        "lista = [4, 5, 3, 2]\r\n",
        "print(lista)"
      ],
      "execution_count": 1,
      "outputs": [
        {
          "output_type": "stream",
          "text": [
            "[4, 5, 3, 2]\n"
          ],
          "name": "stdout"
        }
      ]
    },
    {
      "cell_type": "code",
      "metadata": {
        "colab": {
          "base_uri": "https://localhost:8080/"
        },
        "id": "clw84IKpCNLa",
        "outputId": "78583b10-0c79-4b08-e76b-34f9fd04d1dc"
      },
      "source": [
        "print(lista[1])"
      ],
      "execution_count": 3,
      "outputs": [
        {
          "output_type": "stream",
          "text": [
            "5\n"
          ],
          "name": "stdout"
        }
      ]
    },
    {
      "cell_type": "code",
      "metadata": {
        "colab": {
          "base_uri": "https://localhost:8080/"
        },
        "id": "8IABNGBECkUN",
        "outputId": "1d7ed1d9-458d-499f-ba4f-1f8c1dd31d69"
      },
      "source": [
        "lista[0] = 1\r\n",
        "print (lista)"
      ],
      "execution_count": 4,
      "outputs": [
        {
          "output_type": "stream",
          "text": [
            "[1, 5, 3, 2]\n"
          ],
          "name": "stdout"
        }
      ]
    },
    {
      "cell_type": "code",
      "metadata": {
        "colab": {
          "base_uri": "https://localhost:8080/"
        },
        "id": "jLGz_IzyC4XL",
        "outputId": "e38faf6c-589c-4657-e116-a63d2eda1de1"
      },
      "source": [
        "lista[0] = lista[1] + lista[2]\r\n",
        "print(lista)"
      ],
      "execution_count": 7,
      "outputs": [
        {
          "output_type": "stream",
          "text": [
            "[8, 5, 3, 2]\n"
          ],
          "name": "stdout"
        }
      ]
    },
    {
      "cell_type": "code",
      "metadata": {
        "colab": {
          "base_uri": "https://localhost:8080/"
        },
        "id": "xSUf3zmkDey1",
        "outputId": "e07f0bb0-5a9f-4c15-e3da-d1356ada49e8"
      },
      "source": [
        "lista2 = ['nada', 1, 2, 3, 'v']\r\n",
        "print(lista2)"
      ],
      "execution_count": 8,
      "outputs": [
        {
          "output_type": "stream",
          "text": [
            "['nada', 1, 2, 3, 'v']\n"
          ],
          "name": "stdout"
        }
      ]
    },
    {
      "cell_type": "code",
      "metadata": {
        "colab": {
          "base_uri": "https://localhost:8080/"
        },
        "id": "8EuPCtjIDvUd",
        "outputId": "e99dea87-4021-4785-f1b8-e5089ba247b0"
      },
      "source": [
        "lista3 = [lista, lista2]\r\n",
        "print(lista3)"
      ],
      "execution_count": 10,
      "outputs": [
        {
          "output_type": "stream",
          "text": [
            "[[8, 5, 3, 2], ['nada', 1, 2, 3, 'v']]\n"
          ],
          "name": "stdout"
        }
      ]
    },
    {
      "cell_type": "code",
      "metadata": {
        "colab": {
          "base_uri": "https://localhost:8080/"
        },
        "id": "tvoY65COESKz",
        "outputId": "7850756e-1c39-4158-b849-389c6d50ff88"
      },
      "source": [
        "lista4 = [lista + lista2 + lista3]\r\n",
        "print(lista4)\r\n",
        "print(lista3[1][0])"
      ],
      "execution_count": 18,
      "outputs": [
        {
          "output_type": "stream",
          "text": [
            "[[8, 5, 3, 2, 'nada', 1, 2, 3, 'v', [8, 5, 3, 2], ['nada', 1, 2, 3, 'v']]]\n",
            "nada\n"
          ],
          "name": "stdout"
        }
      ]
    }
  ]
}
