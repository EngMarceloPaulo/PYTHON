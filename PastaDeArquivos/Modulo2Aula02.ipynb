{
  "nbformat": 4,
  "nbformat_minor": 0,
  "metadata": {
    "colab": {
      "name": "Modulo2Aula02.ipynb",
      "provenance": [],
      "authorship_tag": "ABX9TyMN56FiZjnU7o4beUYmMnhh",
      "include_colab_link": true
    },
    "kernelspec": {
      "name": "python3",
      "display_name": "Python 3"
    }
  },
  "cells": [
    {
      "cell_type": "markdown",
      "metadata": {
        "id": "view-in-github",
        "colab_type": "text"
      },
      "source": [
        "<a href=\"https://colab.research.google.com/github/EngMarceloPaulo/PYTHON/blob/master/PastaDeArquivos/Modulo2Aula02.ipynb\" target=\"_parent\"><img src=\"https://colab.research.google.com/assets/colab-badge.svg\" alt=\"Open In Colab\"/></a>"
      ]
    },
    {
      "cell_type": "code",
      "metadata": {
        "colab": {
          "base_uri": "https://localhost:8080/"
        },
        "id": "AihW7MIjRcSK",
        "outputId": "f295ef18-1695-465f-a366-de1505e0c50b"
      },
      "source": [
        "lista = [8, 5, 4, 2]\r\n",
        "print(lista[0:2])"
      ],
      "execution_count": 7,
      "outputs": [
        {
          "output_type": "stream",
          "text": [
            "[8, 5]\n"
          ],
          "name": "stdout"
        }
      ]
    },
    {
      "cell_type": "code",
      "metadata": {
        "colab": {
          "base_uri": "https://localhost:8080/"
        },
        "id": "2GD5uXI7U4Ow",
        "outputId": "5b69ccb9-bbb7-41cc-ca6d-bd3d5b36fd04"
      },
      "source": [
        "print(lista[0:])"
      ],
      "execution_count": 8,
      "outputs": [
        {
          "output_type": "stream",
          "text": [
            "[8, 5, 4, 2]\n"
          ],
          "name": "stdout"
        }
      ]
    },
    {
      "cell_type": "code",
      "metadata": {
        "colab": {
          "base_uri": "https://localhost:8080/"
        },
        "id": "alf9nVmdVGrb",
        "outputId": "d3e83a1d-6dd6-445f-e450-dba1702c9603"
      },
      "source": [
        "print(lista[:3])"
      ],
      "execution_count": 9,
      "outputs": [
        {
          "output_type": "stream",
          "text": [
            "[8, 5, 4]\n"
          ],
          "name": "stdout"
        }
      ]
    },
    {
      "cell_type": "code",
      "metadata": {
        "colab": {
          "base_uri": "https://localhost:8080/"
        },
        "id": "Ttm8W53iWnxE",
        "outputId": "2cd794e3-a5ae-4e95-9e8d-434a6ef2ddd0"
      },
      "source": [
        "print(lista[-1])\r\n",
        "print(lista[-2])\r\n",
        "print(lista[:-1])\r\n",
        "print(lista[-4:-1])\r\n",
        "print(lista[-4:0])\r\n",
        "print(lista[-4:1])"
      ],
      "execution_count": 13,
      "outputs": [
        {
          "output_type": "stream",
          "text": [
            "2\n",
            "4\n",
            "[8, 5, 4]\n",
            "[8, 5, 4]\n",
            "[]\n",
            "[8]\n"
          ],
          "name": "stdout"
        }
      ]
    }
  ]
}