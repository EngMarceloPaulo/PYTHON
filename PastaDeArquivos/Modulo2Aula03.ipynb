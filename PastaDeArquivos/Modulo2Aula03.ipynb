{
  "nbformat": 4,
  "nbformat_minor": 0,
  "metadata": {
    "colab": {
      "name": "Modulo2Aula03.ipynb",
      "provenance": [],
      "authorship_tag": "ABX9TyPgb6L7d2PG13CzW0IVp0u9",
      "include_colab_link": true
    },
    "kernelspec": {
      "name": "python3",
      "display_name": "Python 3"
    }
  },
  "cells": [
    {
      "cell_type": "markdown",
      "metadata": {
        "id": "view-in-github",
        "colab_type": "text"
      },
      "source": [
        "<a href=\"https://colab.research.google.com/github/EngMarceloPaulo/PYTHON/blob/master/PastaDeArquivos/Modulo2Aula03.ipynb\" target=\"_parent\"><img src=\"https://colab.research.google.com/assets/colab-badge.svg\" alt=\"Open In Colab\"/></a>"
      ]
    },
    {
      "cell_type": "code",
      "metadata": {
        "colab": {
          "base_uri": "https://localhost:8080/"
        },
        "id": "cO13DsZPYDKZ",
        "outputId": "f0af75e2-6f9d-43ab-ca9e-2087c35e25f8"
      },
      "source": [
        "from operator import itemgetter, attrgetter\r\n",
        "x = list(range(1,11,1))\r\n",
        "print('x = ' + str(x))\r\n",
        "y = list(range(10,0,-1))\r\n",
        "print('y = ' + str(y))\r\n",
        "z = list(range(20,0,-2))\r\n",
        "print('z = ' + str(z))\r\n",
        "print('Soma x = ' + str(sum(x)))\r\n",
        "print('Máximo x = ' + str(max(x)))\r\n",
        "print('Mínimo x = ' + str(min(x)))\r\n",
        "print('Conte x = ' + str(x.count(8)))\r\n",
        "x.sort(reverse=True)  # Dentro do print dá None...\r\n",
        "print('Sort x (reverse=True) = ' + str(x))\r\n",
        "print('Sorted x (crescente) = ' + str(sorted(x))) # Mesmo x invertido sorted dá o valor na ordem crescente\r\n",
        "print('Sorted x (decrescente) = ' + str(sorted(x, reverse=True)))\r\n",
        "print('*********************')\r\n",
        "\r\n",
        "student_tuples = [\r\n",
        "    ('john', 'A', 15),\r\n",
        "    ('dave', 'C', 12),\r\n",
        "    ('jane', 'B', 10),\r\n",
        "    ('bill', 'B', 11),\r\n",
        "]\r\n",
        "print('# sort by age: ' + str(sorted(student_tuples, key=lambda student: student[2])))   # sort by age\r\n",
        "print('# sort by name: ' + str(sorted(student_tuples, key=lambda student: student[0])))   # sort by name\r\n",
        "print('# sort by grade: ' + str(sorted(student_tuples, key=lambda student: student[1])))   # sort by grade\r\n",
        "print('# sort by age with key: ' + str(sorted(student_tuples, key=itemgetter(2)))) # sort by age with key\r\n",
        "print('*********************')\r\n",
        "\r\n",
        "class Student:\r\n",
        "    def __init__(self, name, grade, age):\r\n",
        "        self.name = name\r\n",
        "        self.grade = grade\r\n",
        "        self.age = age\r\n",
        "    def __repr__(self):\r\n",
        "        return repr((self.name, self.grade, self.age))\r\n",
        "\r\n",
        "student_objects = [\r\n",
        "    Student('jane', 'B', 15),\r\n",
        "    Student('john', 'B', 12),\r\n",
        "    Student('dave', 'A', 10),\r\n",
        "    Student('bill', 'C', 11),\r\n",
        "]\r\n",
        "s = sorted(student_objects, key=attrgetter('age'))     # sort on secondary key\r\n",
        "print('Grade reverse first, suite age: ' + str(sorted(s, key=attrgetter('grade'), reverse=True)))       # now sort on primary key, descending\r\n",
        "print('Age and grade garanteed: ' + str(sorted(student_objects, key=attrgetter('age'))))\r\n",
        "print('*********************')\r\n",
        "# seleção por nota utilizando Decorate-Sort-Undecorate\r\n",
        "decorated = [(student.grade, i, student) for i, student in enumerate(student_objects)] # lista inicial é decorada\r\n",
        "decorated.sort() # a lista decorada é ordenada\r\n",
        "print('DSU by grade: ' + str([student for grade, i, student in decorated])) # os valores decorados são removidos (undecorate)"
      ],
      "execution_count": 155,
      "outputs": [
        {
          "output_type": "stream",
          "text": [
            "x = [1, 2, 3, 4, 5, 6, 7, 8, 9, 10]\n",
            "y = [10, 9, 8, 7, 6, 5, 4, 3, 2, 1]\n",
            "z = [20, 18, 16, 14, 12, 10, 8, 6, 4, 2]\n",
            "Soma x = 55\n",
            "Máximo x = 10\n",
            "Mínimo x = 1\n",
            "Conte x = 1\n",
            "Sort x (reverse=True) = [10, 9, 8, 7, 6, 5, 4, 3, 2, 1]\n",
            "Sorted x (crescente) = [1, 2, 3, 4, 5, 6, 7, 8, 9, 10]\n",
            "Sorted x (decrescente) = [10, 9, 8, 7, 6, 5, 4, 3, 2, 1]\n",
            "*********************\n",
            "# sort by age: [('jane', 'B', 10), ('bill', 'B', 11), ('dave', 'C', 12), ('john', 'A', 15)]\n",
            "# sort by name: [('bill', 'B', 11), ('dave', 'C', 12), ('jane', 'B', 10), ('john', 'A', 15)]\n",
            "# sort by grade: [('john', 'A', 15), ('jane', 'B', 10), ('bill', 'B', 11), ('dave', 'C', 12)]\n",
            "# sort by age with key: [('jane', 'B', 10), ('bill', 'B', 11), ('dave', 'C', 12), ('john', 'A', 15)]\n",
            "*********************\n",
            "Grade reverse first, suite age: [('bill', 'C', 11), ('john', 'B', 12), ('jane', 'B', 15), ('dave', 'A', 10)]\n",
            "Age and grade garanteed: [('dave', 'A', 10), ('bill', 'C', 11), ('john', 'B', 12), ('jane', 'B', 15)]\n",
            "*********************\n",
            "DSU by grade: [('dave', 'A', 10), ('jane', 'B', 15), ('john', 'B', 12), ('bill', 'C', 11)]\n"
          ],
          "name": "stdout"
        }
      ]
    }
  ]
}