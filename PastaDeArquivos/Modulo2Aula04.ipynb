{
  "nbformat": 4,
  "nbformat_minor": 0,
  "metadata": {
    "colab": {
      "name": "Modulo2Aula04.ipynb",
      "provenance": [],
      "authorship_tag": "ABX9TyNIwVepKCD/xmAKFAE8Hm8o",
      "include_colab_link": true
    },
    "kernelspec": {
      "name": "python3",
      "display_name": "Python 3"
    }
  },
  "cells": [
    {
      "cell_type": "markdown",
      "metadata": {
        "id": "view-in-github",
        "colab_type": "text"
      },
      "source": [
        "<a href=\"https://colab.research.google.com/github/EngMarceloPaulo/PYTHON/blob/master/PastaDeArquivos/Modulo2Aula04.ipynb\" target=\"_parent\"><img src=\"https://colab.research.google.com/assets/colab-badge.svg\" alt=\"Open In Colab\"/></a>"
      ]
    },
    {
      "cell_type": "code",
      "metadata": {
        "colab": {
          "base_uri": "https://localhost:8080/"
        },
        "id": "WqGgG5BIg-3c",
        "outputId": "c01d8de8-2616-4296-847a-d59b6d1908d5"
      },
      "source": [
        "x = [-20, -10, 40, 30]\r\n",
        "print('Número de elementos de x: ' + str(len(x))) #dá o número de elementos de uma lista"
      ],
      "execution_count": 2,
      "outputs": [
        {
          "output_type": "stream",
          "text": [
            "Número de elementos de x: 4\n"
          ],
          "name": "stdout"
        }
      ]
    },
    {
      "cell_type": "code",
      "metadata": {
        "colab": {
          "base_uri": "https://localhost:8080/"
        },
        "id": "9aMub4x5iDIu",
        "outputId": "04ca9cf8-f01a-4183-e107-acafd6f9a031"
      },
      "source": [
        "print(x)\r\n",
        "x.append(50)\r\n",
        "print(x)"
      ],
      "execution_count": 4,
      "outputs": [
        {
          "output_type": "stream",
          "text": [
            "[-20, -10, 40, 30]\n",
            "[-20, -10, 40, 30, 50]\n"
          ],
          "name": "stdout"
        }
      ]
    },
    {
      "cell_type": "code",
      "metadata": {
        "colab": {
          "base_uri": "https://localhost:8080/"
        },
        "id": "00NSGItaikLa",
        "outputId": "38834e06-2acb-4d26-f6bd-066fa2879ad5"
      },
      "source": [
        "print(x)\r\n",
        "x.remove(-10)\r\n",
        "print(x)"
      ],
      "execution_count": 5,
      "outputs": [
        {
          "output_type": "stream",
          "text": [
            "[-20, -10, 40, 30, 50]\n",
            "[-20, 40, 30, 50]\n"
          ],
          "name": "stdout"
        }
      ]
    },
    {
      "cell_type": "code",
      "metadata": {
        "colab": {
          "base_uri": "https://localhost:8080/"
        },
        "id": "5luK9suQjBqJ",
        "outputId": "393de95a-fded-48f9-817f-4b9b49726755"
      },
      "source": [
        "print(x)\r\n",
        "x.pop(2)\r\n",
        "print(x)"
      ],
      "execution_count": 6,
      "outputs": [
        {
          "output_type": "stream",
          "text": [
            "[-20, 40, 30, 50]\n",
            "[-20, 40, 50]\n"
          ],
          "name": "stdout"
        }
      ]
    }
  ]
}