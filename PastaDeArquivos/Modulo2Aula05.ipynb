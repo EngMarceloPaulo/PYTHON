{
  "nbformat": 4,
  "nbformat_minor": 0,
  "metadata": {
    "colab": {
      "name": "Modulo2Aula05.ipynb",
      "provenance": [],
      "authorship_tag": "ABX9TyNpjdvl1CQq9plxE+L9GXjo",
      "include_colab_link": true
    },
    "kernelspec": {
      "name": "python3",
      "display_name": "Python 3"
    }
  },
  "cells": [
    {
      "cell_type": "markdown",
      "metadata": {
        "id": "view-in-github",
        "colab_type": "text"
      },
      "source": [
        "<a href=\"https://colab.research.google.com/github/EngMarceloPaulo/PYTHON/blob/master/PastaDeArquivos/Modulo2Aula05.ipynb\" target=\"_parent\"><img src=\"https://colab.research.google.com/assets/colab-badge.svg\" alt=\"Open In Colab\"/></a>"
      ]
    },
    {
      "cell_type": "code",
      "metadata": {
        "colab": {
          "base_uri": "https://localhost:8080/"
        },
        "id": "b741HqNoky_C",
        "outputId": "caf95c18-d51a-4a1c-87ce-7acfffa4367b"
      },
      "source": [
        "''' Cópia por valor e cópia por referência.\r\n",
        "    As melhores práticas em Python\r\n",
        "'''\r\n",
        "x = [20, 30, 10, -50]\r\n",
        "print(x)"
      ],
      "execution_count": 8,
      "outputs": [
        {
          "output_type": "stream",
          "text": [
            "[20, 30, 10, -50]\n"
          ],
          "name": "stdout"
        }
      ]
    },
    {
      "cell_type": "code",
      "metadata": {
        "colab": {
          "base_uri": "https://localhost:8080/"
        },
        "id": "jN8uBjVul0oY",
        "outputId": "32473a0c-dc25-4b86-b6f9-701e4e8c4975"
      },
      "source": [
        "y = x # ERRO! Foi passada a REFERÊNCIA\r\n",
        "y[0] = 3  # Ao modificar y armazeno o resultado em x\r\n",
        "print(y)  # Referência é um vínculo entre as variáveis\r\n",
        "print(x)"
      ],
      "execution_count": 9,
      "outputs": [
        {
          "output_type": "stream",
          "text": [
            "[3, 30, 10, -50]\n",
            "[3, 30, 10, -50]\n"
          ],
          "name": "stdout"
        }
      ]
    },
    {
      "cell_type": "code",
      "metadata": {
        "colab": {
          "base_uri": "https://localhost:8080/"
        },
        "id": "XRPg_m4kmxf9",
        "outputId": "23f477bc-36ee-4939-cb13-c9f6c705cefc"
      },
      "source": [
        "z = x.copy()  # Foi passado o VALOR\r\n",
        "z[0] = 70   # Ao modificar o valor não há modificação em x\r\n",
        "print(z)    # z representa uma variável local\r\n",
        "print(x)"
      ],
      "execution_count": 11,
      "outputs": [
        {
          "output_type": "stream",
          "text": [
            "[70, 30, 10, -50]\n",
            "[3, 30, 10, -50]\n"
          ],
          "name": "stdout"
        }
      ]
    }
  ]
}