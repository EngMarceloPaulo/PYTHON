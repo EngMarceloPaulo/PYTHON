{
  "nbformat": 4,
  "nbformat_minor": 0,
  "metadata": {
    "colab": {
      "name": "Modulo2Aula06.ipynb",
      "provenance": [],
      "authorship_tag": "ABX9TyNB4d5j6BL2Lzuz8qI2DyZK",
      "include_colab_link": true
    },
    "kernelspec": {
      "name": "python3",
      "display_name": "Python 3"
    }
  },
  "cells": [
    {
      "cell_type": "markdown",
      "metadata": {
        "id": "view-in-github",
        "colab_type": "text"
      },
      "source": [
        "<a href=\"https://colab.research.google.com/github/EngMarceloPaulo/PYTHON/blob/master/PastaDeArquivos/Modulo2Aula06.ipynb\" target=\"_parent\"><img src=\"https://colab.research.google.com/assets/colab-badge.svg\" alt=\"Open In Colab\"/></a>"
      ]
    },
    {
      "cell_type": "code",
      "metadata": {
        "colab": {
          "base_uri": "https://localhost:8080/"
        },
        "id": "b741HqNoky_C",
        "outputId": "b65cf79b-5c7b-494a-eeaf-4f4dd3bcf948"
      },
      "source": [
        "''' Fusão de listas: +, append e extend\r\n",
        "    Listas de vários tipos de fundindo\r\n",
        "'''\r\n",
        "list1 = [3, 2, 4, 5]\r\n",
        "list2 = [\"red\", \"blue\", \"yellow\", \"green\"]\r\n",
        "list3 = list1 + list2\r\n",
        "print(list3)\r\n",
        "print(list2 + list1)"
      ],
      "execution_count": 13,
      "outputs": [
        {
          "output_type": "stream",
          "text": [
            "[3, 2, 4, 5, 'red', 'blue', 'yellow', 'green']\n",
            "['red', 'blue', 'yellow', 'green', 3, 2, 4, 5]\n"
          ],
          "name": "stdout"
        }
      ]
    },
    {
      "cell_type": "code",
      "metadata": {
        "colab": {
          "base_uri": "https://localhost:8080/"
        },
        "id": "4mxDAWIZrVs9",
        "outputId": "65cf301b-c707-42e9-d584-fc9fecc4f3ae"
      },
      "source": [
        "list3[0] = -10\r\n",
        "print(list3)\r\n",
        "print(list1)"
      ],
      "execution_count": 14,
      "outputs": [
        {
          "output_type": "stream",
          "text": [
            "[-10, 2, 4, 5, 'red', 'blue', 'yellow', 'green']\n",
            "[3, 2, 4, 5]\n"
          ],
          "name": "stdout"
        }
      ]
    },
    {
      "cell_type": "code",
      "metadata": {
        "colab": {
          "base_uri": "https://localhost:8080/"
        },
        "id": "ZHqJNfcsr75n",
        "outputId": "8f0fb7c0-f700-4c4b-c597-6191abed96f8"
      },
      "source": [
        "print(list1)\r\n",
        "list1.append(list2)\r\n",
        "print(list1)"
      ],
      "execution_count": 15,
      "outputs": [
        {
          "output_type": "stream",
          "text": [
            "[3, 2, 4, 5]\n",
            "[3, 2, 4, 5, ['red', 'blue', 'yellow', 'green']]\n"
          ],
          "name": "stdout"
        }
      ]
    },
    {
      "cell_type": "code",
      "metadata": {
        "colab": {
          "base_uri": "https://localhost:8080/"
        },
        "id": "qUoHWRAnsgkT",
        "outputId": "2a7da64e-60e8-46ba-9ec4-174693e4aa56"
      },
      "source": [
        "print(list1)\r\n",
        "list1.extend(list2)\r\n",
        "print(list1)"
      ],
      "execution_count": 16,
      "outputs": [
        {
          "output_type": "stream",
          "text": [
            "[3, 2, 4, 5, ['red', 'blue', 'yellow', 'green']]\n",
            "[3, 2, 4, 5, ['red', 'blue', 'yellow', 'green'], 'red', 'blue', 'yellow', 'green']\n"
          ],
          "name": "stdout"
        }
      ]
    },
    {
      "cell_type": "code",
      "metadata": {
        "colab": {
          "base_uri": "https://localhost:8080/"
        },
        "id": "jrR5WRLYt0ZZ",
        "outputId": "173a45cf-1b64-4392-903c-a92b9baddab5"
      },
      "source": [
        "print(list1[4])\r\n",
        "print(list1[4][1])\r\n",
        "print(list1[5])"
      ],
      "execution_count": 17,
      "outputs": [
        {
          "output_type": "stream",
          "text": [
            "['red', 'blue', 'yellow', 'green']\n",
            "blue\n",
            "red\n"
          ],
          "name": "stdout"
        }
      ]
    }
  ]
}